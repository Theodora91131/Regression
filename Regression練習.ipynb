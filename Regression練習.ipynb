{
  "nbformat": 4,
  "nbformat_minor": 0,
  "metadata": {
    "colab": {
      "name": "Regression練習.ipynb",
      "provenance": [],
      "collapsed_sections": []
    },
    "kernelspec": {
      "name": "python3",
      "display_name": "Python 3"
    }
  },
  "cells": [
    {
      "cell_type": "code",
      "metadata": {
        "id": "EH5SWCw7RZVJ",
        "colab_type": "code",
        "colab": {}
      },
      "source": [
        "import numpy as np \n",
        "import pandas as pd\n",
        "import matplotlib.pyplot as plt\n",
        "from sklearn import linear_model\n",
        "from sklearn.preprocessing import PolynomialFeatures\n",
        "from sklearn.pipeline import make_pipeline\n",
        "from sklearn.datasets import make_regression\n",
        "from sklearn.model_selection import train_test_split"
      ],
      "execution_count": 547,
      "outputs": []
    },
    {
      "cell_type": "code",
      "metadata": {
        "id": "jGNHzCw4SX28",
        "colab_type": "code",
        "colab": {}
      },
      "source": [
        "X, y = make_regression(n_samples = 2, n_features = 1, noise = 20, random_state = 0)"
      ],
      "execution_count": 548,
      "outputs": []
    },
    {
      "cell_type": "code",
      "metadata": {
        "id": "1JbVedXIS0XB",
        "colab_type": "code",
        "colab": {
          "base_uri": "https://localhost:8080/",
          "height": 282
        },
        "outputId": "a76588d6-077f-4af6-9c04-a4335c07d720"
      },
      "source": [
        "plt.scatter(X, y)"
      ],
      "execution_count": 549,
      "outputs": [
        {
          "output_type": "execute_result",
          "data": {
            "text/plain": [
              "<matplotlib.collections.PathCollection at 0x7fd59ff2c470>"
            ]
          },
          "metadata": {
            "tags": []
          },
          "execution_count": 549
        },
        {
          "output_type": "display_data",
          "data": {
            "image/png": "[encoded data removed]",
            "text/plain": [
              "<Figure size 432x288 with 1 Axes>"
            ]
          },
          "metadata": {
            "tags": [],
            "needs_background": "light"
          }
        }
      ]
    },
    {
      "cell_type": "code",
      "metadata": {
        "id": "qhfyIHdbXJGK",
        "colab_type": "code",
        "colab": {
          "base_uri": "https://localhost:8080/",
          "height": 34
        },
        "outputId": "c622af26-2765-4c3b-cdb1-207210c0e74a"
      },
      "source": [
        "regr = linear_model.LinearRegression()\n",
        "regr.fit(X, y)"
      ],
      "execution_count": 550,
      "outputs": [
        {
          "output_type": "execute_result",
          "data": {
            "text/plain": [
              "LinearRegression(copy_X=True, fit_intercept=True, n_jobs=None, normalize=False)"
            ]
          },
          "metadata": {
            "tags": []
          },
          "execution_count": 550
        }
      ]
    },
    {
      "cell_type": "markdown",
      "metadata": {
        "id": "f00gif-8XmoA",
        "colab_type": "text"
      },
      "source": [
        "LinearRegression(copy_X=True, fit_intercept=True, n_jobs=None, normalize=False)"
      ]
    },
    {
      "cell_type": "code",
      "metadata": {
        "id": "i0CQsvEFX4oQ",
        "colab_type": "code",
        "colab": {
          "base_uri": "https://localhost:8080/",
          "height": 282
        },
        "outputId": "5eb54af1-8e4c-49a5-acc3-55e8aac6ba8d"
      },
      "source": [
        "plt.scatter(X, y, color = 'blue')\n",
        "plt.plot(X, regr.predict(X), color = 'red', linewidth = 1)"
      ],
      "execution_count": 551,
      "outputs": [
        {
          "output_type": "execute_result",
          "data": {
            "text/plain": [
              "[<matplotlib.lines.Line2D at 0x7fd59fec6ba8>]"
            ]
          },
          "metadata": {
            "tags": []
          },
          "execution_count": 551
        },
        {
          "output_type": "display_data",
          "data": {
            "image/png": "[encoded data removed]",
            "text/plain": [
              "<Figure size 432x288 with 1 Axes>"
            ]
          },
          "metadata": {
            "tags": [],
            "needs_background": "light"
          }
        }
      ]
    },
    {
      "cell_type": "markdown",
      "metadata": {
        "id": "NCgOfYUnZLM4",
        "colab_type": "text"
      },
      "source": [
        "Linear Regression"
      ]
    },
    {
      "cell_type": "code",
      "metadata": {
        "id": "Y_PJ1Y3wZNzP",
        "colab_type": "code",
        "colab": {}
      },
      "source": [
        "X, y = make_regression(n_samples = 100, n_features = 1, noise = 20, random_state = 0)"
      ],
      "execution_count": 552,
      "outputs": []
    },
    {
      "cell_type": "code",
      "metadata": {
        "id": "bNyQLsGKZRff",
        "colab_type": "code",
        "colab": {
          "base_uri": "https://localhost:8080/",
          "height": 282
        },
        "outputId": "913376d8-ceac-4825-99b3-ec311fd33467"
      },
      "source": [
        "plt.scatter(X, y)"
      ],
      "execution_count": 553,
      "outputs": [
        {
          "output_type": "execute_result",
          "data": {
            "text/plain": [
              "<matplotlib.collections.PathCollection at 0x7fd59fe67fd0>"
            ]
          },
          "metadata": {
            "tags": []
          },
          "execution_count": 553
        },
        {
          "output_type": "display_data",
          "data": {
            "image/png": "[encoded data removed]",
            "text/plain": [
              "<Figure size 432x288 with 1 Axes>"
            ]
          },
          "metadata": {
            "tags": [],
            "needs_background": "light"
          }
        }
      ]
    },
    {
      "cell_type": "code",
      "metadata": {
        "id": "HUhpIkG_bAOF",
        "colab_type": "code",
        "colab": {}
      },
      "source": [
        "X_train, X_test, y_train, y_test = train_test_split(X, y, test_size = 0.25, random_state = 0)"
      ],
      "execution_count": 554,
      "outputs": []
    },
    {
      "cell_type": "code",
      "metadata": {
        "id": "GIKrho8bbVmY",
        "colab_type": "code",
        "colab": {
          "base_uri": "https://localhost:8080/",
          "height": 34
        },
        "outputId": "dda528ff-f8a0-4f36-d49a-fdbe9b3ce92d"
      },
      "source": [
        "regr = linear_model.LinearRegression()\n",
        "regr.fit(X_train, y_train)"
      ],
      "execution_count": 555,
      "outputs": [
        {
          "output_type": "execute_result",
          "data": {
            "text/plain": [
              "LinearRegression(copy_X=True, fit_intercept=True, n_jobs=None, normalize=False)"
            ]
          },
          "metadata": {
            "tags": []
          },
          "execution_count": 555
        }
      ]
    },
    {
      "cell_type": "code",
      "metadata": {
        "id": "8OgXKQ5abqCA",
        "colab_type": "code",
        "colab": {
          "base_uri": "https://localhost:8080/",
          "height": 265
        },
        "outputId": "7d3c9a74-fe14-4c47-f560-433638adc0aa"
      },
      "source": [
        "#plt.scatter(X_train, y_train, color = 'black')\n",
        "plt.scatter(X_test, y_test, color = 'red')\n",
        "#plt.scatter(X_test, regr.predict(X_test), color = 'blue')\n",
        "plt.plot(X_test, regr.predict(X_test), color = 'blue', linewidth = 1)\n",
        "plt.show()"
      ],
      "execution_count": 556,
      "outputs": [
        {
          "output_type": "display_data",
          "data": {
            "image/png": "[encoded data removed]",
            "text/plain": [
              "<Figure size 432x288 with 1 Axes>"
            ]
          },
          "metadata": {
            "tags": [],
            "needs_background": "light"
          }
        }
      ]
    },
    {
      "cell_type": "code",
      "metadata": {
        "id": "f_lj6yGzdRxC",
        "colab_type": "code",
        "colab": {}
      },
      "source": [
        "w_0 = regr.intercept_ #截距\n",
        "w_1 = regr.coef_ #係數 斜率"
      ],
      "execution_count": 557,
      "outputs": []
    },
    {
      "cell_type": "code",
      "metadata": {
        "id": "FgbiqDm7eQXw",
        "colab_type": "code",
        "colab": {
          "base_uri": "https://localhost:8080/",
          "height": 50
        },
        "outputId": "85c7c1fd-e6e3-4380-a12a-9a752d24d5ad"
      },
      "source": [
        "print(\"Intercept:\", w_0)\n",
        "print(\"Cofficient:\",w_1)"
      ],
      "execution_count": 558,
      "outputs": [
        {
          "output_type": "stream",
          "text": [
            "Intercept: -1.0361643622741923\n",
            "Cofficient: [44.60097138]\n"
          ],
          "name": "stdout"
        }
      ]
    },
    {
      "cell_type": "code",
      "metadata": {
        "id": "rZB1t7M7ecrY",
        "colab_type": "code",
        "colab": {
          "base_uri": "https://localhost:8080/",
          "height": 34
        },
        "outputId": "d17ef011-1ff4-4725-8d00-da7bb6d17314"
      },
      "source": [
        "regr.score(X_train, y_train)"
      ],
      "execution_count": 559,
      "outputs": [
        {
          "output_type": "execute_result",
          "data": {
            "text/plain": [
              "0.8189406615135346"
            ]
          },
          "metadata": {
            "tags": []
          },
          "execution_count": 559
        }
      ]
    },
    {
      "cell_type": "code",
      "metadata": {
        "id": "csgCaRZOfTuF",
        "colab_type": "code",
        "colab": {
          "base_uri": "https://localhost:8080/",
          "height": 34
        },
        "outputId": "0d2e6bbe-f9b1-466e-98e1-5e038e0ea61a"
      },
      "source": [
        "regr.score(X_test, y_test)"
      ],
      "execution_count": 560,
      "outputs": [
        {
          "output_type": "execute_result",
          "data": {
            "text/plain": [
              "0.7260094422204653"
            ]
          },
          "metadata": {
            "tags": []
          },
          "execution_count": 560
        }
      ]
    },
    {
      "cell_type": "markdown",
      "metadata": {
        "id": "G8bA1nghind2",
        "colab_type": "text"
      },
      "source": [
        "房價範例:"
      ]
    },
    {
      "cell_type": "code",
      "metadata": {
        "id": "pAMTPtzHv5Wj",
        "colab_type": "code",
        "colab": {}
      },
      "source": [
        "import numpy as np"
      ],
      "execution_count": 561,
      "outputs": []
    },
    {
      "cell_type": "code",
      "metadata": {
        "id": "eFUorasRgRQJ",
        "colab_type": "code",
        "colab": {}
      },
      "source": [
        "x, y = make_regression(n_samples = 100, n_features = 1, noise = 20, random_state = 0)"
      ],
      "execution_count": 562,
      "outputs": []
    },
    {
      "cell_type": "code",
      "metadata": {
        "id": "bgrIgZ4gl37R",
        "colab_type": "code",
        "colab": {
          "base_uri": "https://localhost:8080/",
          "height": 52
        },
        "outputId": "2b66bb1b-0b5b-473e-d368-b3e9676f3627"
      },
      "source": [
        "''' def coef (X_train, y_train, X_test, y_test): \n",
        "    X_test = (X_test - np.mean(X_train)) \n",
        "    y_test = (y_test - np.mean(X_test)) \n",
        "    m=sum(X_test*X_test)/sum(X_test) \n",
        "    print(\"斜率\",m)\n",
        "    return m '''\n"
      ],
      "execution_count": 563,
      "outputs": [
        {
          "output_type": "execute_result",
          "data": {
            "application/vnd.google.colaboratory.intrinsic+json": {
              "type": "string"
            },
            "text/plain": [
              "' def coef (X_train, y_train, X_test, y_test): \\n    X_test = (X_test - np.mean(X_train)) \\n    y_test = (y_test - np.mean(X_test)) \\n    m=sum(X_test*X_test)/sum(X_test) \\n    print(\"斜率\",m)\\n    return m '"
            ]
          },
          "metadata": {
            "tags": []
          },
          "execution_count": 563
        }
      ]
    },
    {
      "cell_type": "code",
      "metadata": {
        "id": "_Js6KQmKr-CD",
        "colab_type": "code",
        "colab": {
          "base_uri": "https://localhost:8080/",
          "height": 35
        },
        "outputId": "8a3fcc94-88cb-4676-8560-2a0e08247b83"
      },
      "source": [
        "'''def intercept(X_train, y_train, X_test, y_test, m): \n",
        "    b = y_test - (m*X_test) \n",
        "    print(\"截距\",m)'''"
      ],
      "execution_count": 564,
      "outputs": [
        {
          "output_type": "execute_result",
          "data": {
            "application/vnd.google.colaboratory.intrinsic+json": {
              "type": "string"
            },
            "text/plain": [
              "'def intercept(X_train, y_train, X_test, y_test, m): \\n    b = y_test - (m*X_test) \\n    print(\"截距\",m)'"
            ]
          },
          "metadata": {
            "tags": []
          },
          "execution_count": 564
        }
      ]
    },
    {
      "cell_type": "code",
      "metadata": {
        "id": "NwVciW9nlno8",
        "colab_type": "code",
        "colab": {
          "base_uri": "https://localhost:8080/",
          "height": 35
        },
        "outputId": "e1dc2d5b-67ca-4a32-90e8-083f2ed02a67"
      },
      "source": [
        "'''for i in range(100):\n",
        "  intercept(X_train, y_train, X_test, y_test, m = coef(X_train, y_train, X_test, y_test))\n",
        "  '''\n"
      ],
      "execution_count": 565,
      "outputs": [
        {
          "output_type": "execute_result",
          "data": {
            "application/vnd.google.colaboratory.intrinsic+json": {
              "type": "string"
            },
            "text/plain": [
              "'for i in range(100):\\n  intercept(X_train, y_train, X_test, y_test, m = coef(X_train, y_train, X_test, y_test))\\n  '"
            ]
          },
          "metadata": {
            "tags": []
          },
          "execution_count": 565
        }
      ]
    },
    {
      "cell_type": "code",
      "metadata": {
        "id": "I2_bvrvV0i9u",
        "colab_type": "code",
        "colab": {}
      },
      "source": [
        "x_mean = np.mean(x)\n",
        "y_mean = np.mean(y)"
      ],
      "execution_count": 566,
      "outputs": []
    },
    {
      "cell_type": "code",
      "metadata": {
        "id": "yijLPwZblu6x",
        "colab_type": "code",
        "colab": {
          "base_uri": "https://localhost:8080/",
          "height": 50
        },
        "outputId": "06d3c528-e29f-46c2-de8f-949c490e7314"
      },
      "source": [
        "z = 0\n",
        "a = 0\n",
        "for i in range(100):\n",
        "  z = z + (x[i] - x_mean) * (y[i] - y_mean)\n",
        "  a = a + (x[i] - x_mean) ** 2\n",
        "w_1 = z / a\n",
        "w_0 = y_mean - w_1 * x_mean\n",
        "print(\"Intercept:\",w_0)\n",
        "print(\"Cofficient:\",w_1)"
      ],
      "execution_count": 567,
      "outputs": [
        {
          "output_type": "stream",
          "text": [
            "Intercept: [-1.62836365]\n",
            "Cofficient: [42.85335573]\n"
          ],
          "name": "stdout"
        }
      ]
    },
    {
      "cell_type": "code",
      "metadata": {
        "id": "uYzxRDst0iWr",
        "colab_type": "code",
        "colab": {
          "base_uri": "https://localhost:8080/",
          "height": 265
        },
        "outputId": "22c922ea-63b4-4853-bf99-61d046b56adf"
      },
      "source": [
        "line = w_1 * x + w_0\n",
        "plt.scatter(x, y, color = 'blue')\n",
        "plt.plot(x, line, color = 'red', linewidth = 1)\n",
        "plt.show()"
      ],
      "execution_count": 568,
      "outputs": [
        {
          "output_type": "display_data",
          "data": {
            "image/png": "[encoded data removed]",
            "text/plain": [
              "<Figure size 432x288 with 1 Axes>"
            ]
          },
          "metadata": {
            "tags": [],
            "needs_background": "light"
          }
        }
      ]
    }
  ]
}